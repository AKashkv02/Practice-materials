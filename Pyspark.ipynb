{
  "nbformat": 4,
  "nbformat_minor": 0,
  "metadata": {
    "colab": {
      "provenance": [],
      "collapsed_sections": [],
      "authorship_tag": "ABX9TyOU84tWIbe0fMNL7jKxgt0E",
      "include_colab_link": true
    },
    "kernelspec": {
      "name": "python3",
      "display_name": "Python 3"
    },
    "language_info": {
      "name": "python"
    }
  },
  "cells": [
    {
      "cell_type": "markdown",
      "metadata": {
        "id": "view-in-github",
        "colab_type": "text"
      },
      "source": [
        "<a href=\"https://colab.research.google.com/github/AKashkv02/Practice-materials/blob/main/Pyspark.ipynb\" target=\"_parent\"><img src=\"https://colab.research.google.com/assets/colab-badge.svg\" alt=\"Open In Colab\"/></a>"
      ]
    },
    {
      "cell_type": "code",
      "source": [
        "pip install pyspark"
      ],
      "metadata": {
        "colab": {
          "base_uri": "https://localhost:8080/"
        },
        "id": "iP8bUndE-ERi",
        "outputId": "834fa574-9a20-4dcf-ba3c-15c79436ecf0"
      },
      "execution_count": 38,
      "outputs": [
        {
          "output_type": "stream",
          "name": "stdout",
          "text": [
            "Looking in indexes: https://pypi.org/simple, https://us-python.pkg.dev/colab-wheels/public/simple/\n",
            "Requirement already satisfied: pyspark in /usr/local/lib/python3.7/dist-packages (3.3.0)\n",
            "Requirement already satisfied: py4j==0.10.9.5 in /usr/local/lib/python3.7/dist-packages (from pyspark) (0.10.9.5)\n"
          ]
        }
      ]
    },
    {
      "cell_type": "code",
      "execution_count": 39,
      "metadata": {
        "id": "Tet0XZlF90uN"
      },
      "outputs": [],
      "source": [
        "import pyspark"
      ]
    },
    {
      "cell_type": "code",
      "source": [
        "from pyspark.sql import SparkSession\n",
        "spark = SparkSession.builder.appName('Practise').getOrCreate()\n",
        "spark"
      ],
      "metadata": {
        "colab": {
          "base_uri": "https://localhost:8080/",
          "height": 219
        },
        "id": "-PvUhayh95p-",
        "outputId": "e726a9e5-7922-4ee8-e7f5-e98513c56da7"
      },
      "execution_count": 40,
      "outputs": [
        {
          "output_type": "execute_result",
          "data": {
            "text/plain": [
              "<pyspark.sql.session.SparkSession at 0x7f69f275c110>"
            ],
            "text/html": [
              "\n",
              "            <div>\n",
              "                <p><b>SparkSession - in-memory</b></p>\n",
              "                \n",
              "        <div>\n",
              "            <p><b>SparkContext</b></p>\n",
              "\n",
              "            <p><a href=\"http://797a025a62d5:4040\">Spark UI</a></p>\n",
              "\n",
              "            <dl>\n",
              "              <dt>Version</dt>\n",
              "                <dd><code>v3.3.0</code></dd>\n",
              "              <dt>Master</dt>\n",
              "                <dd><code>local[*]</code></dd>\n",
              "              <dt>AppName</dt>\n",
              "                <dd><code>Practise</code></dd>\n",
              "            </dl>\n",
              "        </div>\n",
              "        \n",
              "            </div>\n",
              "        "
            ]
          },
          "metadata": {},
          "execution_count": 40
        }
      ]
    },
    {
      "cell_type": "code",
      "source": [
        "import pandas as pd \n",
        "df=pd.read_csv('/content/Book1.csv')\n",
        "df"
      ],
      "metadata": {
        "colab": {
          "base_uri": "https://localhost:8080/",
          "height": 206
        },
        "id": "QhrgJ3tu-6BK",
        "outputId": "58912a94-fca8-4619-c54b-18eafe6335f7"
      },
      "execution_count": 41,
      "outputs": [
        {
          "output_type": "execute_result",
          "data": {
            "text/plain": [
              "      Name  Age  Experience\n",
              "0    Akash   25           3\n",
              "1    Ashok   28           8\n",
              "2  Rajath    30           2\n",
              "3  Goutham   25           1\n",
              "4   Jeevan   25           2"
            ],
            "text/html": [
              "\n",
              "  <div id=\"df-d079c16e-f296-4012-8519-7dac6019e86a\">\n",
              "    <div class=\"colab-df-container\">\n",
              "      <div>\n",
              "<style scoped>\n",
              "    .dataframe tbody tr th:only-of-type {\n",
              "        vertical-align: middle;\n",
              "    }\n",
              "\n",
              "    .dataframe tbody tr th {\n",
              "        vertical-align: top;\n",
              "    }\n",
              "\n",
              "    .dataframe thead th {\n",
              "        text-align: right;\n",
              "    }\n",
              "</style>\n",
              "<table border=\"1\" class=\"dataframe\">\n",
              "  <thead>\n",
              "    <tr style=\"text-align: right;\">\n",
              "      <th></th>\n",
              "      <th>Name</th>\n",
              "      <th>Age</th>\n",
              "      <th>Experience</th>\n",
              "    </tr>\n",
              "  </thead>\n",
              "  <tbody>\n",
              "    <tr>\n",
              "      <th>0</th>\n",
              "      <td>Akash</td>\n",
              "      <td>25</td>\n",
              "      <td>3</td>\n",
              "    </tr>\n",
              "    <tr>\n",
              "      <th>1</th>\n",
              "      <td>Ashok</td>\n",
              "      <td>28</td>\n",
              "      <td>8</td>\n",
              "    </tr>\n",
              "    <tr>\n",
              "      <th>2</th>\n",
              "      <td>Rajath</td>\n",
              "      <td>30</td>\n",
              "      <td>2</td>\n",
              "    </tr>\n",
              "    <tr>\n",
              "      <th>3</th>\n",
              "      <td>Goutham</td>\n",
              "      <td>25</td>\n",
              "      <td>1</td>\n",
              "    </tr>\n",
              "    <tr>\n",
              "      <th>4</th>\n",
              "      <td>Jeevan</td>\n",
              "      <td>25</td>\n",
              "      <td>2</td>\n",
              "    </tr>\n",
              "  </tbody>\n",
              "</table>\n",
              "</div>\n",
              "      <button class=\"colab-df-convert\" onclick=\"convertToInteractive('df-d079c16e-f296-4012-8519-7dac6019e86a')\"\n",
              "              title=\"Convert this dataframe to an interactive table.\"\n",
              "              style=\"display:none;\">\n",
              "        \n",
              "  <svg xmlns=\"http://www.w3.org/2000/svg\" height=\"24px\"viewBox=\"0 0 24 24\"\n",
              "       width=\"24px\">\n",
              "    <path d=\"M0 0h24v24H0V0z\" fill=\"none\"/>\n",
              "    <path d=\"M18.56 5.44l.94 2.06.94-2.06 2.06-.94-2.06-.94-.94-2.06-.94 2.06-2.06.94zm-11 1L8.5 8.5l.94-2.06 2.06-.94-2.06-.94L8.5 2.5l-.94 2.06-2.06.94zm10 10l.94 2.06.94-2.06 2.06-.94-2.06-.94-.94-2.06-.94 2.06-2.06.94z\"/><path d=\"M17.41 7.96l-1.37-1.37c-.4-.4-.92-.59-1.43-.59-.52 0-1.04.2-1.43.59L10.3 9.45l-7.72 7.72c-.78.78-.78 2.05 0 2.83L4 21.41c.39.39.9.59 1.41.59.51 0 1.02-.2 1.41-.59l7.78-7.78 2.81-2.81c.8-.78.8-2.07 0-2.86zM5.41 20L4 18.59l7.72-7.72 1.47 1.35L5.41 20z\"/>\n",
              "  </svg>\n",
              "      </button>\n",
              "      \n",
              "  <style>\n",
              "    .colab-df-container {\n",
              "      display:flex;\n",
              "      flex-wrap:wrap;\n",
              "      gap: 12px;\n",
              "    }\n",
              "\n",
              "    .colab-df-convert {\n",
              "      background-color: #E8F0FE;\n",
              "      border: none;\n",
              "      border-radius: 50%;\n",
              "      cursor: pointer;\n",
              "      display: none;\n",
              "      fill: #1967D2;\n",
              "      height: 32px;\n",
              "      padding: 0 0 0 0;\n",
              "      width: 32px;\n",
              "    }\n",
              "\n",
              "    .colab-df-convert:hover {\n",
              "      background-color: #E2EBFA;\n",
              "      box-shadow: 0px 1px 2px rgba(60, 64, 67, 0.3), 0px 1px 3px 1px rgba(60, 64, 67, 0.15);\n",
              "      fill: #174EA6;\n",
              "    }\n",
              "\n",
              "    [theme=dark] .colab-df-convert {\n",
              "      background-color: #3B4455;\n",
              "      fill: #D2E3FC;\n",
              "    }\n",
              "\n",
              "    [theme=dark] .colab-df-convert:hover {\n",
              "      background-color: #434B5C;\n",
              "      box-shadow: 0px 1px 3px 1px rgba(0, 0, 0, 0.15);\n",
              "      filter: drop-shadow(0px 1px 2px rgba(0, 0, 0, 0.3));\n",
              "      fill: #FFFFFF;\n",
              "    }\n",
              "  </style>\n",
              "\n",
              "      <script>\n",
              "        const buttonEl =\n",
              "          document.querySelector('#df-d079c16e-f296-4012-8519-7dac6019e86a button.colab-df-convert');\n",
              "        buttonEl.style.display =\n",
              "          google.colab.kernel.accessAllowed ? 'block' : 'none';\n",
              "\n",
              "        async function convertToInteractive(key) {\n",
              "          const element = document.querySelector('#df-d079c16e-f296-4012-8519-7dac6019e86a');\n",
              "          const dataTable =\n",
              "            await google.colab.kernel.invokeFunction('convertToInteractive',\n",
              "                                                     [key], {});\n",
              "          if (!dataTable) return;\n",
              "\n",
              "          const docLinkHtml = 'Like what you see? Visit the ' +\n",
              "            '<a target=\"_blank\" href=https://colab.research.google.com/notebooks/data_table.ipynb>data table notebook</a>'\n",
              "            + ' to learn more about interactive tables.';\n",
              "          element.innerHTML = '';\n",
              "          dataTable['output_type'] = 'display_data';\n",
              "          await google.colab.output.renderOutput(dataTable, element);\n",
              "          const docLink = document.createElement('div');\n",
              "          docLink.innerHTML = docLinkHtml;\n",
              "          element.appendChild(docLink);\n",
              "        }\n",
              "      </script>\n",
              "    </div>\n",
              "  </div>\n",
              "  "
            ]
          },
          "metadata": {},
          "execution_count": 41
        }
      ]
    },
    {
      "cell_type": "code",
      "source": [
        "#read the dataset\n",
        "df_py=spark.read.csv('/content/Book1.csv')\n",
        "df_py"
      ],
      "metadata": {
        "colab": {
          "base_uri": "https://localhost:8080/"
        },
        "id": "MDse4u7MAnUh",
        "outputId": "0890625b-4a55-4dcc-e5c2-7fe3c810e240"
      },
      "execution_count": 42,
      "outputs": [
        {
          "output_type": "execute_result",
          "data": {
            "text/plain": [
              "DataFrame[_c0: string, _c1: string, _c2: string]"
            ]
          },
          "metadata": {},
          "execution_count": 42
        }
      ]
    },
    {
      "cell_type": "code",
      "source": [
        " df_py.show()"
      ],
      "metadata": {
        "colab": {
          "base_uri": "https://localhost:8080/"
        },
        "id": "ZlwuoVF1A0Cz",
        "outputId": "d7c7bbd6-60af-42f9-ea7e-698bafdd729a"
      },
      "execution_count": 43,
      "outputs": [
        {
          "output_type": "stream",
          "name": "stdout",
          "text": [
            "+-------+---+----------+\n",
            "|    _c0|_c1|       _c2|\n",
            "+-------+---+----------+\n",
            "|   Name|Age|Experience|\n",
            "|  Akash| 25|         3|\n",
            "|  Ashok| 28|         8|\n",
            "|Rajath | 30|         2|\n",
            "|Goutham| 25|         1|\n",
            "| Jeevan| 25|         2|\n",
            "+-------+---+----------+\n",
            "\n"
          ]
        }
      ]
    },
    {
      "cell_type": "code",
      "source": [
        "#another way or reading the dataset\n",
        "df_py=spark.read.option('header','true').csv('/content/Book1.csv',inferSchema=True)\n",
        "df_py.show()"
      ],
      "metadata": {
        "colab": {
          "base_uri": "https://localhost:8080/"
        },
        "id": "lnjflZV9BxDU",
        "outputId": "a0419375-9314-446b-b14d-318c18650375"
      },
      "execution_count": 48,
      "outputs": [
        {
          "output_type": "stream",
          "name": "stdout",
          "text": [
            "+-------+---+----------+\n",
            "|   Name|Age|Experience|\n",
            "+-------+---+----------+\n",
            "|  Akash| 25|         3|\n",
            "|  Ashok| 28|         8|\n",
            "|Rajath | 30|         2|\n",
            "|Goutham| 25|         1|\n",
            "| Jeevan| 25|         2|\n",
            "+-------+---+----------+\n",
            "\n"
          ]
        }
      ]
    },
    {
      "cell_type": "code",
      "source": [
        "type(df_py)"
      ],
      "metadata": {
        "colab": {
          "base_uri": "https://localhost:8080/"
        },
        "id": "BgK_okOuClYZ",
        "outputId": "3011b99f-3f56-415c-c4af-62410bce980e"
      },
      "execution_count": 45,
      "outputs": [
        {
          "output_type": "execute_result",
          "data": {
            "text/plain": [
              "pyspark.sql.dataframe.DataFrame"
            ]
          },
          "metadata": {},
          "execution_count": 45
        }
      ]
    },
    {
      "cell_type": "code",
      "source": [
        "df_py.head(5)"
      ],
      "metadata": {
        "colab": {
          "base_uri": "https://localhost:8080/"
        },
        "id": "uocYw_wjC_t0",
        "outputId": "5f699e3c-9719-4ca0-ee68-6a21723d932f"
      },
      "execution_count": 46,
      "outputs": [
        {
          "output_type": "execute_result",
          "data": {
            "text/plain": [
              "[Row(Name='Akash', Age='25', Experience='3'),\n",
              " Row(Name='Ashok', Age='28', Experience='8'),\n",
              " Row(Name='Rajath ', Age='30', Experience='2'),\n",
              " Row(Name='Goutham', Age='25', Experience='1'),\n",
              " Row(Name='Jeevan', Age='25', Experience='2')]"
            ]
          },
          "metadata": {},
          "execution_count": 46
        }
      ]
    },
    {
      "cell_type": "code",
      "source": [
        "#check the schema to check the datatype of column\n",
        "df_py.printSchema()"
      ],
      "metadata": {
        "colab": {
          "base_uri": "https://localhost:8080/"
        },
        "id": "hH6LdbgLDKfb",
        "outputId": "c2194d80-6bea-4a80-de5a-ae71b19f48c7"
      },
      "execution_count": 49,
      "outputs": [
        {
          "output_type": "stream",
          "name": "stdout",
          "text": [
            "root\n",
            " |-- Name: string (nullable = true)\n",
            " |-- Age: integer (nullable = true)\n",
            " |-- Experience: integer (nullable = true)\n",
            "\n"
          ]
        }
      ]
    },
    {
      "cell_type": "code",
      "source": [
        "#another way of reading dataset with header and shema\n",
        "#without infer schema every column is treated as string type\n",
        "df_py=spark.read.csv('/content/Book1.csv',header=True,inferSchema=True)\n",
        "df_py.show()"
      ],
      "metadata": {
        "colab": {
          "base_uri": "https://localhost:8080/"
        },
        "id": "hGKl5U9HDSvv",
        "outputId": "1dac5593-51e9-45dd-aebf-7fefd9718830"
      },
      "execution_count": 50,
      "outputs": [
        {
          "output_type": "stream",
          "name": "stdout",
          "text": [
            "+-------+---+----------+\n",
            "|   Name|Age|Experience|\n",
            "+-------+---+----------+\n",
            "|  Akash| 25|         3|\n",
            "|  Ashok| 28|         8|\n",
            "|Rajath | 30|         2|\n",
            "|Goutham| 25|         1|\n",
            "| Jeevan| 25|         2|\n",
            "+-------+---+----------+\n",
            "\n"
          ]
        }
      ]
    },
    {
      "cell_type": "code",
      "source": [
        "df_py.columns"
      ],
      "metadata": {
        "colab": {
          "base_uri": "https://localhost:8080/"
        },
        "id": "Y0VlrBWEGIY6",
        "outputId": "9d68bffc-2a48-4922-9a17-d9548c753fc3"
      },
      "execution_count": 51,
      "outputs": [
        {
          "output_type": "execute_result",
          "data": {
            "text/plain": [
              "['Name', 'Age', 'Experience']"
            ]
          },
          "metadata": {},
          "execution_count": 51
        }
      ]
    },
    {
      "cell_type": "code",
      "source": [
        "#how to select a column\n",
        "df_py.select('Name')"
      ],
      "metadata": {
        "colab": {
          "base_uri": "https://localhost:8080/"
        },
        "id": "DmF654iTGdsz",
        "outputId": "4b189586-cad7-4afa-a16c-1b6bb0b388a8"
      },
      "execution_count": 52,
      "outputs": [
        {
          "output_type": "execute_result",
          "data": {
            "text/plain": [
              "DataFrame[Name: string]"
            ]
          },
          "metadata": {},
          "execution_count": 52
        }
      ]
    },
    {
      "cell_type": "code",
      "source": [
        "df_py.select('Name').show()"
      ],
      "metadata": {
        "colab": {
          "base_uri": "https://localhost:8080/"
        },
        "id": "3OWEXitoG9JV",
        "outputId": "7480801a-cc2a-4267-ede9-9394029b26b7"
      },
      "execution_count": 53,
      "outputs": [
        {
          "output_type": "stream",
          "name": "stdout",
          "text": [
            "+-------+\n",
            "|   Name|\n",
            "+-------+\n",
            "|  Akash|\n",
            "|  Ashok|\n",
            "|Rajath |\n",
            "|Goutham|\n",
            "| Jeevan|\n",
            "+-------+\n",
            "\n"
          ]
        }
      ]
    },
    {
      "cell_type": "code",
      "source": [
        "type(df_py.select('Name'))"
      ],
      "metadata": {
        "colab": {
          "base_uri": "https://localhost:8080/"
        },
        "id": "eun8KuEnHCg2",
        "outputId": "be3b1a23-890f-45e5-84f5-53c92b9ccc30"
      },
      "execution_count": 55,
      "outputs": [
        {
          "output_type": "execute_result",
          "data": {
            "text/plain": [
              "pyspark.sql.dataframe.DataFrame"
            ]
          },
          "metadata": {},
          "execution_count": 55
        }
      ]
    },
    {
      "cell_type": "code",
      "source": [
        "#select multiple columns \n",
        "df_py.select(['Name','Age']).show()"
      ],
      "metadata": {
        "colab": {
          "base_uri": "https://localhost:8080/"
        },
        "id": "1NLLX6BSHHXX",
        "outputId": "7c9f3f20-eef4-409b-98c7-372dc8536f61"
      },
      "execution_count": 57,
      "outputs": [
        {
          "output_type": "stream",
          "name": "stdout",
          "text": [
            "+-------+---+\n",
            "|   Name|Age|\n",
            "+-------+---+\n",
            "|  Akash| 25|\n",
            "|  Ashok| 28|\n",
            "|Rajath | 30|\n",
            "|Goutham| 25|\n",
            "| Jeevan| 25|\n",
            "+-------+---+\n",
            "\n"
          ]
        }
      ]
    },
    {
      "cell_type": "code",
      "source": [
        "#check the datatypes of columns\n",
        "df_py.dtypes "
      ],
      "metadata": {
        "colab": {
          "base_uri": "https://localhost:8080/"
        },
        "id": "fS90hmXbHYFs",
        "outputId": "3494c6b5-73aa-4a3e-d288-d6da05c8facc"
      },
      "execution_count": 58,
      "outputs": [
        {
          "output_type": "execute_result",
          "data": {
            "text/plain": [
              "[('Name', 'string'), ('Age', 'int'), ('Experience', 'int')]"
            ]
          },
          "metadata": {},
          "execution_count": 58
        }
      ]
    },
    {
      "cell_type": "code",
      "source": [
        "#statistics summary\n",
        "df_py.describe().show()"
      ],
      "metadata": {
        "colab": {
          "base_uri": "https://localhost:8080/"
        },
        "id": "Ng7iyG3ZH2cx",
        "outputId": "6b46c96b-8590-498d-f8c5-b2ebe87146de"
      },
      "execution_count": 60,
      "outputs": [
        {
          "output_type": "stream",
          "name": "stdout",
          "text": [
            "+-------+-------+-----------------+------------------+\n",
            "|summary|   Name|              Age|        Experience|\n",
            "+-------+-------+-----------------+------------------+\n",
            "|  count|      5|                5|                 5|\n",
            "|   mean|   null|             26.6|               3.2|\n",
            "| stddev|   null|2.302172886644268|2.7748873851023212|\n",
            "|    min|  Akash|               25|                 1|\n",
            "|    max|Rajath |               30|                 8|\n",
            "+-------+-------+-----------------+------------------+\n",
            "\n"
          ]
        }
      ]
    },
    {
      "cell_type": "code",
      "source": [
        "#Adding columns in data frame\n",
        "df_py=df_py.withColumn('Experience after 2 years',df_py['Experience']+2)\n",
        "df_py.show()"
      ],
      "metadata": {
        "colab": {
          "base_uri": "https://localhost:8080/"
        },
        "id": "4ysjTTYyIGmq",
        "outputId": "d32db90a-1c4c-4455-8d74-1dc7822ca56f"
      },
      "execution_count": 63,
      "outputs": [
        {
          "output_type": "stream",
          "name": "stdout",
          "text": [
            "+-------+---+----------+------------------------+\n",
            "|   Name|Age|Experience|Experience after 2 years|\n",
            "+-------+---+----------+------------------------+\n",
            "|  Akash| 25|         3|                       5|\n",
            "|  Ashok| 28|         8|                      10|\n",
            "|Rajath | 30|         2|                       4|\n",
            "|Goutham| 25|         1|                       3|\n",
            "| Jeevan| 25|         2|                       4|\n",
            "+-------+---+----------+------------------------+\n",
            "\n"
          ]
        }
      ]
    },
    {
      "cell_type": "code",
      "source": [
        "#Drop the columns\n",
        "df_py1=df_py.drop('Experience after 2 years')\n",
        "df_py1.show()"
      ],
      "metadata": {
        "colab": {
          "base_uri": "https://localhost:8080/"
        },
        "id": "7p-pjO49I8qG",
        "outputId": "1e6a26b2-ee4a-40c3-fd76-85d36eccd1ed"
      },
      "execution_count": 65,
      "outputs": [
        {
          "output_type": "stream",
          "name": "stdout",
          "text": [
            "+-------+---+----------+\n",
            "|   Name|Age|Experience|\n",
            "+-------+---+----------+\n",
            "|  Akash| 25|         3|\n",
            "|  Ashok| 28|         8|\n",
            "|Rajath | 30|         2|\n",
            "|Goutham| 25|         1|\n",
            "| Jeevan| 25|         2|\n",
            "+-------+---+----------+\n",
            "\n"
          ]
        }
      ]
    },
    {
      "cell_type": "code",
      "source": [
        "#Rename the columns\n",
        "df_py1.withColumnRenamed('Name','First_name').show()"
      ],
      "metadata": {
        "colab": {
          "base_uri": "https://localhost:8080/"
        },
        "id": "bsgO7j2MJdzS",
        "outputId": "ab2631e0-8f5e-46f3-8513-b3017f3e5e80"
      },
      "execution_count": 67,
      "outputs": [
        {
          "output_type": "stream",
          "name": "stdout",
          "text": [
            "+----------+---+----------+\n",
            "|First_name|Age|Experience|\n",
            "+----------+---+----------+\n",
            "|     Akash| 25|         3|\n",
            "|     Ashok| 28|         8|\n",
            "|   Rajath | 30|         2|\n",
            "|   Goutham| 25|         1|\n",
            "|    Jeevan| 25|         2|\n",
            "+----------+---+----------+\n",
            "\n"
          ]
        }
      ]
    },
    {
      "cell_type": "markdown",
      "source": [
        "#Handling missing values"
      ],
      "metadata": {
        "id": "NScj9YcHKCmP"
      }
    },
    {
      "cell_type": "code",
      "source": [
        " df1=pd.read_csv('https://raw.githubusercontent.com/krishnaik06/Pyspark-With-Python/main/test2.csv')\n",
        " df1.to_csv('test.csv')"
      ],
      "metadata": {
        "id": "kFS-RKUxJ3ln"
      },
      "execution_count": 97,
      "outputs": []
    },
    {
      "cell_type": "code",
      "source": [
        "df_py2=spark.read.csv('/content/test.csv',header=True,inferSchema=True)\n",
        "df_py2.show()"
      ],
      "metadata": {
        "colab": {
          "base_uri": "https://localhost:8080/"
        },
        "id": "wXbR8NKnMh46",
        "outputId": "a796d191-4b7e-4880-efab-5e5360c3ce6f"
      },
      "execution_count": 98,
      "outputs": [
        {
          "output_type": "stream",
          "name": "stdout",
          "text": [
            "+---+---------+----+----------+-------+\n",
            "|_c0|     Name| age|Experience| Salary|\n",
            "+---+---------+----+----------+-------+\n",
            "|  0|    Krish|31.0|      10.0|30000.0|\n",
            "|  1|Sudhanshu|30.0|       8.0|25000.0|\n",
            "|  2|    Sunny|29.0|       4.0|20000.0|\n",
            "|  3|     Paul|24.0|       3.0|20000.0|\n",
            "|  4|   Harsha|21.0|       1.0|15000.0|\n",
            "|  5|  Shubham|23.0|       2.0|18000.0|\n",
            "|  6|   Mahesh|null|      null|40000.0|\n",
            "|  7|     null|34.0|      10.0|38000.0|\n",
            "|  8|     null|36.0|      null|   null|\n",
            "+---+---------+----+----------+-------+\n",
            "\n"
          ]
        }
      ]
    },
    {
      "cell_type": "code",
      "source": [
        "#drop the columns\n",
        "df_py2=df_py2.drop('_c0')\n",
        "df_py2.show()"
      ],
      "metadata": {
        "colab": {
          "base_uri": "https://localhost:8080/"
        },
        "id": "I6Z0tYtWQp1r",
        "outputId": "6f9279bf-fe11-4fc8-f248-2f0e2c3b561e"
      },
      "execution_count": 99,
      "outputs": [
        {
          "output_type": "stream",
          "name": "stdout",
          "text": [
            "+---------+----+----------+-------+\n",
            "|     Name| age|Experience| Salary|\n",
            "+---------+----+----------+-------+\n",
            "|    Krish|31.0|      10.0|30000.0|\n",
            "|Sudhanshu|30.0|       8.0|25000.0|\n",
            "|    Sunny|29.0|       4.0|20000.0|\n",
            "|     Paul|24.0|       3.0|20000.0|\n",
            "|   Harsha|21.0|       1.0|15000.0|\n",
            "|  Shubham|23.0|       2.0|18000.0|\n",
            "|   Mahesh|null|      null|40000.0|\n",
            "|     null|34.0|      10.0|38000.0|\n",
            "|     null|36.0|      null|   null|\n",
            "+---------+----+----------+-------+\n",
            "\n"
          ]
        }
      ]
    },
    {
      "cell_type": "code",
      "source": [
        "#how to drop null values\n",
        "df_py2.na.drop().show()"
      ],
      "metadata": {
        "colab": {
          "base_uri": "https://localhost:8080/"
        },
        "id": "dqPuSKHVQ3x1",
        "outputId": "141326ef-cf73-4a50-aec7-b733a155a5a7"
      },
      "execution_count": 100,
      "outputs": [
        {
          "output_type": "stream",
          "name": "stdout",
          "text": [
            "+---------+----+----------+-------+\n",
            "|     Name| age|Experience| Salary|\n",
            "+---------+----+----------+-------+\n",
            "|    Krish|31.0|      10.0|30000.0|\n",
            "|Sudhanshu|30.0|       8.0|25000.0|\n",
            "|    Sunny|29.0|       4.0|20000.0|\n",
            "|     Paul|24.0|       3.0|20000.0|\n",
            "|   Harsha|21.0|       1.0|15000.0|\n",
            "|  Shubham|23.0|       2.0|18000.0|\n",
            "+---------+----+----------+-------+\n",
            "\n"
          ]
        }
      ]
    },
    {
      "cell_type": "code",
      "source": [
        "#threshold\n",
        "df_py2.na.drop(how='any',thresh=2).show()\n",
        "\n",
        "#atleast two non null values should be there"
      ],
      "metadata": {
        "colab": {
          "base_uri": "https://localhost:8080/"
        },
        "id": "A9Q08cJ_RPgz",
        "outputId": "a6045e40-e654-431c-de8d-ef64a7162326"
      },
      "execution_count": 101,
      "outputs": [
        {
          "output_type": "stream",
          "name": "stdout",
          "text": [
            "+---------+----+----------+-------+\n",
            "|     Name| age|Experience| Salary|\n",
            "+---------+----+----------+-------+\n",
            "|    Krish|31.0|      10.0|30000.0|\n",
            "|Sudhanshu|30.0|       8.0|25000.0|\n",
            "|    Sunny|29.0|       4.0|20000.0|\n",
            "|     Paul|24.0|       3.0|20000.0|\n",
            "|   Harsha|21.0|       1.0|15000.0|\n",
            "|  Shubham|23.0|       2.0|18000.0|\n",
            "|   Mahesh|null|      null|40000.0|\n",
            "|     null|34.0|      10.0|38000.0|\n",
            "+---------+----+----------+-------+\n",
            "\n"
          ]
        }
      ]
    },
    {
      "cell_type": "code",
      "source": [
        "#subset\n",
        "df_py2.na.drop(how='any',subset=['Age']).show()"
      ],
      "metadata": {
        "colab": {
          "base_uri": "https://localhost:8080/"
        },
        "id": "jarcDZ1bR9Dz",
        "outputId": "4ee3a61f-6441-486d-b46d-7fc9fa6c5c49"
      },
      "execution_count": 102,
      "outputs": [
        {
          "output_type": "stream",
          "name": "stdout",
          "text": [
            "+---------+----+----------+-------+\n",
            "|     Name| age|Experience| Salary|\n",
            "+---------+----+----------+-------+\n",
            "|    Krish|31.0|      10.0|30000.0|\n",
            "|Sudhanshu|30.0|       8.0|25000.0|\n",
            "|    Sunny|29.0|       4.0|20000.0|\n",
            "|     Paul|24.0|       3.0|20000.0|\n",
            "|   Harsha|21.0|       1.0|15000.0|\n",
            "|  Shubham|23.0|       2.0|18000.0|\n",
            "|     null|34.0|      10.0|38000.0|\n",
            "|     null|36.0|      null|   null|\n",
            "+---------+----+----------+-------+\n",
            "\n"
          ]
        }
      ]
    },
    {
      "cell_type": "code",
      "source": [
        "#Filling the missing value\n",
        "df_py2.na.fill(0).show()"
      ],
      "metadata": {
        "colab": {
          "base_uri": "https://localhost:8080/"
        },
        "id": "LFofna2ZSXcM",
        "outputId": "3c2e62f2-2cd5-41d6-b5db-072e8cf15120"
      },
      "execution_count": 103,
      "outputs": [
        {
          "output_type": "stream",
          "name": "stdout",
          "text": [
            "+---------+----+----------+-------+\n",
            "|     Name| age|Experience| Salary|\n",
            "+---------+----+----------+-------+\n",
            "|    Krish|31.0|      10.0|30000.0|\n",
            "|Sudhanshu|30.0|       8.0|25000.0|\n",
            "|    Sunny|29.0|       4.0|20000.0|\n",
            "|     Paul|24.0|       3.0|20000.0|\n",
            "|   Harsha|21.0|       1.0|15000.0|\n",
            "|  Shubham|23.0|       2.0|18000.0|\n",
            "|   Mahesh| 0.0|       0.0|40000.0|\n",
            "|     null|34.0|      10.0|38000.0|\n",
            "|     null|36.0|       0.0|    0.0|\n",
            "+---------+----+----------+-------+\n",
            "\n"
          ]
        }
      ]
    },
    {
      "cell_type": "code",
      "source": [
        "df_py2.na.fill(0,['age','Experience']).show()"
      ],
      "metadata": {
        "colab": {
          "base_uri": "https://localhost:8080/"
        },
        "id": "76G1FnKkShzG",
        "outputId": "83ccf130-d3cc-4eda-e7a2-fddeb88b24dd"
      },
      "execution_count": 104,
      "outputs": [
        {
          "output_type": "stream",
          "name": "stdout",
          "text": [
            "+---------+----+----------+-------+\n",
            "|     Name| age|Experience| Salary|\n",
            "+---------+----+----------+-------+\n",
            "|    Krish|31.0|      10.0|30000.0|\n",
            "|Sudhanshu|30.0|       8.0|25000.0|\n",
            "|    Sunny|29.0|       4.0|20000.0|\n",
            "|     Paul|24.0|       3.0|20000.0|\n",
            "|   Harsha|21.0|       1.0|15000.0|\n",
            "|  Shubham|23.0|       2.0|18000.0|\n",
            "|   Mahesh| 0.0|       0.0|40000.0|\n",
            "|     null|34.0|      10.0|38000.0|\n",
            "|     null|36.0|       0.0|   null|\n",
            "+---------+----+----------+-------+\n",
            "\n"
          ]
        }
      ]
    },
    {
      "cell_type": "code",
      "source": [
        "from pyspark.ml.feature import Imputer \n",
        "imputer=Imputer(\n",
        "    inputCols=['age','Experience','Salary'],\n",
        "    outputCols=['{}_imputed'.format(c) for c in ['age','Experience','Salary']]\n",
        ").setStrategy('mean')"
      ],
      "metadata": {
        "id": "UwFhUbUzS9Ba"
      },
      "execution_count": 105,
      "outputs": []
    },
    {
      "cell_type": "code",
      "source": [
        "#dd imputation columns to df\n",
        "imputer.fit(df_py2).transform(df_py2).show()"
      ],
      "metadata": {
        "colab": {
          "base_uri": "https://localhost:8080/"
        },
        "id": "oF1ggfK6TvUj",
        "outputId": "e99eb0c3-ece8-4c5c-90c3-ab3daf001730"
      },
      "execution_count": 106,
      "outputs": [
        {
          "output_type": "stream",
          "name": "stdout",
          "text": [
            "+---------+----+----------+-------+-----------+------------------+--------------+\n",
            "|     Name| age|Experience| Salary|age_imputed|Experience_imputed|Salary_imputed|\n",
            "+---------+----+----------+-------+-----------+------------------+--------------+\n",
            "|    Krish|31.0|      10.0|30000.0|       31.0|              10.0|       30000.0|\n",
            "|Sudhanshu|30.0|       8.0|25000.0|       30.0|               8.0|       25000.0|\n",
            "|    Sunny|29.0|       4.0|20000.0|       29.0|               4.0|       20000.0|\n",
            "|     Paul|24.0|       3.0|20000.0|       24.0|               3.0|       20000.0|\n",
            "|   Harsha|21.0|       1.0|15000.0|       21.0|               1.0|       15000.0|\n",
            "|  Shubham|23.0|       2.0|18000.0|       23.0|               2.0|       18000.0|\n",
            "|   Mahesh|null|      null|40000.0|       28.5| 5.428571428571429|       40000.0|\n",
            "|     null|34.0|      10.0|38000.0|       34.0|              10.0|       38000.0|\n",
            "|     null|36.0|      null|   null|       36.0| 5.428571428571429|       25750.0|\n",
            "+---------+----+----------+-------+-----------+------------------+--------------+\n",
            "\n"
          ]
        }
      ]
    },
    {
      "cell_type": "markdown",
      "source": [
        "#Filter operation"
      ],
      "metadata": {
        "id": "rYRqc-yiVQQx"
      }
    },
    {
      "cell_type": "code",
      "source": [
        "df_py3=df_py2.na.drop()\n",
        "df_py3.show()"
      ],
      "metadata": {
        "colab": {
          "base_uri": "https://localhost:8080/"
        },
        "id": "Prn6hKPTULiM",
        "outputId": "4d324fdd-b1cd-441c-d9e8-eed91af34620"
      },
      "execution_count": 107,
      "outputs": [
        {
          "output_type": "stream",
          "name": "stdout",
          "text": [
            "+---------+----+----------+-------+\n",
            "|     Name| age|Experience| Salary|\n",
            "+---------+----+----------+-------+\n",
            "|    Krish|31.0|      10.0|30000.0|\n",
            "|Sudhanshu|30.0|       8.0|25000.0|\n",
            "|    Sunny|29.0|       4.0|20000.0|\n",
            "|     Paul|24.0|       3.0|20000.0|\n",
            "|   Harsha|21.0|       1.0|15000.0|\n",
            "|  Shubham|23.0|       2.0|18000.0|\n",
            "+---------+----+----------+-------+\n",
            "\n"
          ]
        }
      ]
    },
    {
      "cell_type": "code",
      "source": [
        "#Salary less than 20000\n",
        "df_py3.filter('Salary<=20000').show()"
      ],
      "metadata": {
        "colab": {
          "base_uri": "https://localhost:8080/"
        },
        "id": "tBcOuiH8U-7N",
        "outputId": "95dcdf71-5f65-459e-9516-0caf0a5fd0da"
      },
      "execution_count": 108,
      "outputs": [
        {
          "output_type": "stream",
          "name": "stdout",
          "text": [
            "+-------+----+----------+-------+\n",
            "|   Name| age|Experience| Salary|\n",
            "+-------+----+----------+-------+\n",
            "|  Sunny|29.0|       4.0|20000.0|\n",
            "|   Paul|24.0|       3.0|20000.0|\n",
            "| Harsha|21.0|       1.0|15000.0|\n",
            "|Shubham|23.0|       2.0|18000.0|\n",
            "+-------+----+----------+-------+\n",
            "\n"
          ]
        }
      ]
    },
    {
      "cell_type": "code",
      "source": [
        "df_py3.filter('Salary<=20000').select(['Name','age']).show()"
      ],
      "metadata": {
        "colab": {
          "base_uri": "https://localhost:8080/"
        },
        "id": "gtDl5-zvVmwS",
        "outputId": "bac11616-a607-402e-c46a-ee40f62ffbc1"
      },
      "execution_count": 109,
      "outputs": [
        {
          "output_type": "stream",
          "name": "stdout",
          "text": [
            "+-------+----+\n",
            "|   Name| age|\n",
            "+-------+----+\n",
            "|  Sunny|29.0|\n",
            "|   Paul|24.0|\n",
            "| Harsha|21.0|\n",
            "|Shubham|23.0|\n",
            "+-------+----+\n",
            "\n"
          ]
        }
      ]
    },
    {
      "cell_type": "code",
      "source": [
        "df_py3.filter((df_py3['Salary']<=20000) &\n",
        "              (df_py3['Salary']>=15000)).show()"
      ],
      "metadata": {
        "colab": {
          "base_uri": "https://localhost:8080/"
        },
        "id": "d5QDxN5LVySO",
        "outputId": "ec8bace8-ea2e-4b16-b8f7-4f7e84920cc5"
      },
      "execution_count": 110,
      "outputs": [
        {
          "output_type": "stream",
          "name": "stdout",
          "text": [
            "+-------+----+----------+-------+\n",
            "|   Name| age|Experience| Salary|\n",
            "+-------+----+----------+-------+\n",
            "|  Sunny|29.0|       4.0|20000.0|\n",
            "|   Paul|24.0|       3.0|20000.0|\n",
            "| Harsha|21.0|       1.0|15000.0|\n",
            "|Shubham|23.0|       2.0|18000.0|\n",
            "+-------+----+----------+-------+\n",
            "\n"
          ]
        }
      ]
    },
    {
      "cell_type": "markdown",
      "source": [
        "#Group by and Aggregate"
      ],
      "metadata": {
        "id": "vFXP810HsWk9"
      }
    },
    {
      "cell_type": "code",
      "source": [
        "from pyspark.sql import SparkSession\n",
        "spark=SparkSession.builder.appName('Agg').getOrCreate()\n",
        "spark"
      ],
      "metadata": {
        "colab": {
          "base_uri": "https://localhost:8080/",
          "height": 219
        },
        "id": "69rcYBh2WFoK",
        "outputId": "427069fc-ff3c-4d59-88ea-77f44e24a210"
      },
      "execution_count": 111,
      "outputs": [
        {
          "output_type": "execute_result",
          "data": {
            "text/plain": [
              "<pyspark.sql.session.SparkSession at 0x7f69f275c110>"
            ],
            "text/html": [
              "\n",
              "            <div>\n",
              "                <p><b>SparkSession - in-memory</b></p>\n",
              "                \n",
              "        <div>\n",
              "            <p><b>SparkContext</b></p>\n",
              "\n",
              "            <p><a href=\"http://797a025a62d5:4040\">Spark UI</a></p>\n",
              "\n",
              "            <dl>\n",
              "              <dt>Version</dt>\n",
              "                <dd><code>v3.3.0</code></dd>\n",
              "              <dt>Master</dt>\n",
              "                <dd><code>local[*]</code></dd>\n",
              "              <dt>AppName</dt>\n",
              "                <dd><code>Practise</code></dd>\n",
              "            </dl>\n",
              "        </div>\n",
              "        \n",
              "            </div>\n",
              "        "
            ]
          },
          "metadata": {},
          "execution_count": 111
        }
      ]
    },
    {
      "cell_type": "code",
      "source": [
        "df3=pd.read_csv('https://raw.githubusercontent.com/krishnaik06/Pyspark-With-Python/main/test3.csv')\n",
        "df3.to_csv('group.csv')"
      ],
      "metadata": {
        "id": "PFy_pImdtEVe"
      },
      "execution_count": 113,
      "outputs": []
    },
    {
      "cell_type": "code",
      "source": [
        "df_gp=spark.read.csv('/content/group.csv',header=True,inferSchema=True)\n",
        "df_gp=df_gp.drop('_c0')\n",
        "df_gp.show()"
      ],
      "metadata": {
        "colab": {
          "base_uri": "https://localhost:8080/"
        },
        "id": "ZdyQEqDWs-fm",
        "outputId": "ad8d2d49-c0d5-4533-f8b2-a0055e693fba"
      },
      "execution_count": 116,
      "outputs": [
        {
          "output_type": "stream",
          "name": "stdout",
          "text": [
            "+---------+------------+------+\n",
            "|     Name| Departments|salary|\n",
            "+---------+------------+------+\n",
            "|    Krish|Data Science| 10000|\n",
            "|    Krish|         IOT|  5000|\n",
            "|   Mahesh|    Big Data|  4000|\n",
            "|    Krish|    Big Data|  4000|\n",
            "|   Mahesh|Data Science|  3000|\n",
            "|Sudhanshu|Data Science| 20000|\n",
            "|Sudhanshu|         IOT| 10000|\n",
            "|Sudhanshu|    Big Data|  5000|\n",
            "|    Sunny|Data Science| 10000|\n",
            "|    Sunny|    Big Data|  2000|\n",
            "+---------+------------+------+\n",
            "\n"
          ]
        }
      ]
    },
    {
      "cell_type": "code",
      "source": [
        "df_gp.printSchema()"
      ],
      "metadata": {
        "colab": {
          "base_uri": "https://localhost:8080/"
        },
        "id": "8w_QI39ktVJR",
        "outputId": "782664ac-820a-4e8a-dc8a-12f638d2eaa8"
      },
      "execution_count": 117,
      "outputs": [
        {
          "output_type": "stream",
          "name": "stdout",
          "text": [
            "root\n",
            " |-- Name: string (nullable = true)\n",
            " |-- Departments: string (nullable = true)\n",
            " |-- salary: integer (nullable = true)\n",
            "\n"
          ]
        }
      ]
    },
    {
      "cell_type": "code",
      "source": [
        "#Groupby\n",
        "df_gp.groupby('Name').sum().show()"
      ],
      "metadata": {
        "colab": {
          "base_uri": "https://localhost:8080/"
        },
        "id": "qw4FdFhZtsaN",
        "outputId": "c0d8863e-ac2f-4745-c9f4-1b670bdeee14"
      },
      "execution_count": 119,
      "outputs": [
        {
          "output_type": "stream",
          "name": "stdout",
          "text": [
            "+---------+-----------+\n",
            "|     Name|sum(salary)|\n",
            "+---------+-----------+\n",
            "|Sudhanshu|      35000|\n",
            "|    Sunny|      12000|\n",
            "|    Krish|      19000|\n",
            "|   Mahesh|       7000|\n",
            "+---------+-----------+\n",
            "\n"
          ]
        }
      ]
    },
    {
      "cell_type": "code",
      "source": [
        "#Group by dep which gives max salary\n",
        "df_gp.groupby('Departments').max().show()"
      ],
      "metadata": {
        "colab": {
          "base_uri": "https://localhost:8080/"
        },
        "id": "tygy0sOGt9Lw",
        "outputId": "bed7627e-b95f-47f6-f631-71025df22fd4"
      },
      "execution_count": 122,
      "outputs": [
        {
          "output_type": "stream",
          "name": "stdout",
          "text": [
            "+------------+-----------+\n",
            "| Departments|max(salary)|\n",
            "+------------+-----------+\n",
            "|         IOT|      10000|\n",
            "|    Big Data|       5000|\n",
            "|Data Science|      20000|\n",
            "+------------+-----------+\n",
            "\n"
          ]
        }
      ]
    },
    {
      "cell_type": "code",
      "source": [
        "df_gp.agg({'Salary': 'sum'}).show()"
      ],
      "metadata": {
        "colab": {
          "base_uri": "https://localhost:8080/"
        },
        "id": "ZHOiMiAIuV6P",
        "outputId": "71c07927-ee15-434e-886b-d8375aa90438"
      },
      "execution_count": 123,
      "outputs": [
        {
          "output_type": "stream",
          "name": "stdout",
          "text": [
            "+-----------+\n",
            "|sum(Salary)|\n",
            "+-----------+\n",
            "|      73000|\n",
            "+-----------+\n",
            "\n"
          ]
        }
      ]
    },
    {
      "cell_type": "markdown",
      "source": [
        "#Examples of pyspark ML\n"
      ],
      "metadata": {
        "id": "a9PmRZF6wehM"
      }
    },
    {
      "cell_type": "code",
      "source": [
        "df_py3=df_py2.na.drop()\n",
        "df_py3.show()"
      ],
      "metadata": {
        "colab": {
          "base_uri": "https://localhost:8080/"
        },
        "id": "hpJ9iej6vnF-",
        "outputId": "c1e51033-1de9-48ff-cd6e-3498077bc7c7"
      },
      "execution_count": 129,
      "outputs": [
        {
          "output_type": "stream",
          "name": "stdout",
          "text": [
            "+---------+----+----------+-------+\n",
            "|     Name| age|Experience| Salary|\n",
            "+---------+----+----------+-------+\n",
            "|    Krish|31.0|      10.0|30000.0|\n",
            "|Sudhanshu|30.0|       8.0|25000.0|\n",
            "|    Sunny|29.0|       4.0|20000.0|\n",
            "|     Paul|24.0|       3.0|20000.0|\n",
            "|   Harsha|21.0|       1.0|15000.0|\n",
            "|  Shubham|23.0|       2.0|18000.0|\n",
            "+---------+----+----------+-------+\n",
            "\n"
          ]
        }
      ]
    },
    {
      "cell_type": "code",
      "source": [
        "#[Age,Experience] ----> new feature ---> independent feature\n",
        "from pyspark.ml.feature import VectorAssembler\n",
        "featureassembler=VectorAssembler(inputCols=['age','Experience'],outputCol='Independent features')\n"
      ],
      "metadata": {
        "id": "P1zRrRZiwuf7"
      },
      "execution_count": 134,
      "outputs": []
    },
    {
      "cell_type": "code",
      "source": [
        "output=featureassembler.transform(df_py3)\n",
        "output.show()"
      ],
      "metadata": {
        "colab": {
          "base_uri": "https://localhost:8080/"
        },
        "id": "RoDCce--x3NY",
        "outputId": "78707b29-c196-43df-8d3c-a7492e5921e8"
      },
      "execution_count": 135,
      "outputs": [
        {
          "output_type": "stream",
          "name": "stdout",
          "text": [
            "+---------+----+----------+-------+--------------------+\n",
            "|     Name| age|Experience| Salary|Independent features|\n",
            "+---------+----+----------+-------+--------------------+\n",
            "|    Krish|31.0|      10.0|30000.0|         [31.0,10.0]|\n",
            "|Sudhanshu|30.0|       8.0|25000.0|          [30.0,8.0]|\n",
            "|    Sunny|29.0|       4.0|20000.0|          [29.0,4.0]|\n",
            "|     Paul|24.0|       3.0|20000.0|          [24.0,3.0]|\n",
            "|   Harsha|21.0|       1.0|15000.0|          [21.0,1.0]|\n",
            "|  Shubham|23.0|       2.0|18000.0|          [23.0,2.0]|\n",
            "+---------+----+----------+-------+--------------------+\n",
            "\n"
          ]
        }
      ]
    },
    {
      "cell_type": "code",
      "source": [
        "final_data=output.select('Independent features','Salary')\n",
        "final_data.show()"
      ],
      "metadata": {
        "colab": {
          "base_uri": "https://localhost:8080/"
        },
        "id": "r8vEhwJbyKKq",
        "outputId": "65468a47-2aa0-4165-e647-9fdf1b68191c"
      },
      "execution_count": 136,
      "outputs": [
        {
          "output_type": "stream",
          "name": "stdout",
          "text": [
            "+--------------------+-------+\n",
            "|Independent features| Salary|\n",
            "+--------------------+-------+\n",
            "|         [31.0,10.0]|30000.0|\n",
            "|          [30.0,8.0]|25000.0|\n",
            "|          [29.0,4.0]|20000.0|\n",
            "|          [24.0,3.0]|20000.0|\n",
            "|          [21.0,1.0]|15000.0|\n",
            "|          [23.0,2.0]|18000.0|\n",
            "+--------------------+-------+\n",
            "\n"
          ]
        }
      ]
    },
    {
      "cell_type": "code",
      "source": [
        "from pyspark.ml.regression import LinearRegression\n",
        "train_data,test_data=final_data.randomSplit([0.75,0.25])\n",
        "regressor=LinearRegression(featuresCol='Independent features',labelCol='Salary')\n",
        "regressor=regressor.fit(train_data)"
      ],
      "metadata": {
        "id": "8fR3acXPy29o"
      },
      "execution_count": 149,
      "outputs": []
    },
    {
      "cell_type": "code",
      "source": [
        "regressor.coefficients"
      ],
      "metadata": {
        "colab": {
          "base_uri": "https://localhost:8080/"
        },
        "id": "BoLX5ScnzpKf",
        "outputId": "bcca0fb0-a2bc-450c-fc87-8e0819bfbdcd"
      },
      "execution_count": 151,
      "outputs": [
        {
          "output_type": "execute_result",
          "data": {
            "text/plain": [
              "DenseVector([28.4757, 1271.3568])"
            ]
          },
          "metadata": {},
          "execution_count": 151
        }
      ]
    },
    {
      "cell_type": "code",
      "source": [
        "regressor.intercept"
      ],
      "metadata": {
        "colab": {
          "base_uri": "https://localhost:8080/"
        },
        "id": "6XUsnHeoztCQ",
        "outputId": "86d8ce08-ab8e-46a4-8f0b-877c5982cf0c"
      },
      "execution_count": 152,
      "outputs": [
        {
          "output_type": "execute_result",
          "data": {
            "text/plain": [
              "14299.83249581293"
            ]
          },
          "metadata": {},
          "execution_count": 152
        }
      ]
    },
    {
      "cell_type": "code",
      "source": [
        "pred=regressor.evaluate(test_data)\n",
        "pred.predictions.show()"
      ],
      "metadata": {
        "colab": {
          "base_uri": "https://localhost:8080/"
        },
        "id": "WFgC5GwBzxBO",
        "outputId": "d4d633db-ae08-46a1-d771-29e146a613d4"
      },
      "execution_count": 150,
      "outputs": [
        {
          "output_type": "stream",
          "name": "stdout",
          "text": [
            "+--------------------+-------+------------------+\n",
            "|Independent features| Salary|        prediction|\n",
            "+--------------------+-------+------------------+\n",
            "|         [31.0,10.0]|30000.0|27896.147403685143|\n",
            "+--------------------+-------+------------------+\n",
            "\n"
          ]
        }
      ]
    },
    {
      "cell_type": "code",
      "source": [
        "pred.meanAbsoluteError,pred.meanSquaredError"
      ],
      "metadata": {
        "colab": {
          "base_uri": "https://localhost:8080/"
        },
        "id": "SNpCcaFtz5PV",
        "outputId": "2a640625-0438-4cb8-f423-dcbff9e2b2b7"
      },
      "execution_count": 154,
      "outputs": [
        {
          "output_type": "execute_result",
          "data": {
            "text/plain": [
              "(2103.852596314857, 4426195.747020763)"
            ]
          },
          "metadata": {},
          "execution_count": 154
        }
      ]
    },
    {
      "cell_type": "code",
      "source": [],
      "metadata": {
        "id": "pDakuo0q0urI"
      },
      "execution_count": null,
      "outputs": []
    }
  ]
}